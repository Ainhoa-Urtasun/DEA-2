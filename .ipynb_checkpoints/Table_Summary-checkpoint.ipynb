{
 "cells": [
  {
   "cell_type": "code",
   "execution_count": 1,
   "metadata": {},
   "outputs": [],
   "source": [
    "import pandas"
   ]
  },
  {
   "cell_type": "markdown",
   "metadata": {},
   "source": [
    "## Table summary"
   ]
  },
  {
   "cell_type": "code",
   "execution_count": 2,
   "metadata": {},
   "outputs": [],
   "source": [
    "def Table_Summary(R):\n",
    "  mylist = []\n",
    "  for j in range(0,len(R),1):\n",
    "     for u,w in enumerate(['Coeff','CSE','p-val']):\n",
    "       for i,v in enumerate(R[j][1].index.tolist()):\n",
    "         mylist.append([R[j][0],v,w,R[j][u+1][i]])\n",
    "     mylist.append([R[j][0],'Adjusted R2','',R[j][4]])\n",
    "  mydf = pandas.DataFrame(mylist,columns=['Measures','Variables','Statistics','Values'])\n",
    "  mydf = mydf.set_index(['Measures','Variables','Statistics'])\n",
    "  mydf = mydf.unstack('Measures')\n",
    "  mydf = mydf.droplevel(0,axis=1)\n",
    "  return(mydf)"
   ]
  },
  {
   "cell_type": "code",
   "execution_count": null,
   "metadata": {},
   "outputs": [],
   "source": []
  }
 ],
 "metadata": {
  "kernelspec": {
   "display_name": "Python 3",
   "language": "python",
   "name": "python3"
  },
  "language_info": {
   "codemirror_mode": {
    "name": "ipython",
    "version": 3
   },
   "file_extension": ".py",
   "mimetype": "text/x-python",
   "name": "python",
   "nbconvert_exporter": "python",
   "pygments_lexer": "ipython3",
   "version": "3.8.5"
  }
 },
 "nbformat": 4,
 "nbformat_minor": 4
}
